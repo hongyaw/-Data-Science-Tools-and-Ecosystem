{
  "metadata": {
    "kernelspec": {
      "name": "python",
      "display_name": "Python (Pyodide)",
      "language": "python"
    },
    "language_info": {
      "codemirror_mode": {
        "name": "python",
        "version": 3
      },
      "file_extension": ".py",
      "mimetype": "text/x-python",
      "name": "python",
      "nbconvert_exporter": "python",
      "pygments_lexer": "ipython3",
      "version": "3.8"
    }
  },
  "nbformat_minor": 5,
  "nbformat": 4,
  "cells": [
    {
      "id": "3d9323a9-de8b-494e-9877-54aecdcf75a0",
      "cell_type": "markdown",
      "source": "# Data Science Tools and Ecosystem",
      "metadata": {}
    },
    {
      "id": "9473a96d-1281-471a-b9d1-2e91e22df2bf",
      "cell_type": "markdown",
      "source": "In this notebook, Data Science Tools and Ecosystem are summarized.",
      "metadata": {}
    },
    {
      "id": "c00d93c0-a266-423a-8a33-83b0d6838caf",
      "cell_type": "markdown",
      "source": "**Objectives:**\n\n- List popular languages for Data Science  \n- List commonly used libraries  \n- Show arithmetic operations  \n- Create and format markdown cells  \n- Upload notebook to GitHub\n",
      "metadata": {}
    },
    {
      "id": "cb98f42b-5aca-4565-8a4e-a937e85267a3",
      "cell_type": "markdown",
      "source": "Some of the popular languages that Data Scientists use are:\n\n1. Python\n2. R\n3. SQL ",
      "metadata": {}
    },
    {
      "id": "1dae830d-ec84-4402-a7ad-c5b8c128fec9",
      "cell_type": "markdown",
      "source": "Some of the commonly used libraries used by Data Scientists include:\n\n1. Pandas  \n2. Matplotlib  \n3. Scikit-learn",
      "metadata": {}
    },
    {
      "id": "6372a94b-718e-4f41-ae69-b974734513a4",
      "cell_type": "markdown",
      "source": "| Data Science Tools     |\n|------------------------|\n| Jupyter Notebook       |\n| RStudio                |\n| VS Code                |\n",
      "metadata": {}
    },
    {
      "id": "9ef81eff-3eb5-47e3-a124-120a1d8c8f64",
      "cell_type": "markdown",
      "source": "### Below are a few examples of evaluating arithmetic expressions in Python.\n",
      "metadata": {}
    },
    {
      "id": "7f2f9fdb-17ae-402b-85dd-a52b1164c21a",
      "cell_type": "code",
      "source": "# This is a simple arithmetic expression to multiply then add integers\n(3*4) + 5\n",
      "metadata": {
        "trusted": true
      },
      "outputs": [
        {
          "execution_count": 2,
          "output_type": "execute_result",
          "data": {
            "text/plain": "17"
          },
          "metadata": {}
        }
      ],
      "execution_count": 2
    },
    {
      "id": "96a38e27-6831-411c-8619-675791dfb869",
      "cell_type": "code",
      "source": "# This will convert 200 minutes to hours by dividing by 60\n200 / 60",
      "metadata": {
        "trusted": true
      },
      "outputs": [
        {
          "execution_count": 3,
          "output_type": "execute_result",
          "data": {
            "text/plain": "3.3333333333333335"
          },
          "metadata": {}
        }
      ],
      "execution_count": 3
    },
    {
      "id": "e786431a-8802-4f8f-ac9c-4c6bf8499691",
      "cell_type": "markdown",
      "source": "## Author  \nQuek Hong Yaw\n",
      "metadata": {}
    },
    {
      "id": "97b4b917-14d7-4848-b66b-90764d07359d",
      "cell_type": "code",
      "source": "",
      "metadata": {
        "trusted": true
      },
      "outputs": [],
      "execution_count": null
    }
  ]
}